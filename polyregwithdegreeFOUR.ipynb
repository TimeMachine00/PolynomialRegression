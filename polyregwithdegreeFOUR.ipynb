{
 "cells": [
  {
   "cell_type": "markdown",
   "id": "c1cf7f3b",
   "metadata": {},
   "source": [
    "# created by hussainatphysics@gmail.com(hussainsha syed)\n",
    "here we perfom multiple Linear regression with degree 4\n"
   ]
  },
  {
   "cell_type": "markdown",
   "id": "966b9f6b",
   "metadata": {},
   "source": [
    "# Importing libraries"
   ]
  },
  {
   "cell_type": "code",
   "execution_count": 1,
   "id": "3a583ffe",
   "metadata": {},
   "outputs": [],
   "source": [
    "import numpy as np\n",
    "import pandas as pd\n",
    "import matplotlib.pyplot as plt"
   ]
  },
  {
   "cell_type": "markdown",
   "id": "12118c58",
   "metadata": {},
   "source": [
    "# Load dataset"
   ]
  },
  {
   "cell_type": "code",
   "execution_count": 2,
   "id": "572823b8",
   "metadata": {},
   "outputs": [],
   "source": [
    "loadData = pd.read_csv(\"C:\\\\Users\\\\HussainSha\\\\ML_forGithub\\\\poly_reg\\\\polynomial-regression.csv\")"
   ]
  },
  {
   "cell_type": "code",
   "execution_count": 4,
   "id": "f84471b1",
   "metadata": {},
   "outputs": [
    {
     "data": {
      "text/html": [
       "<div>\n",
       "<style scoped>\n",
       "    .dataframe tbody tr th:only-of-type {\n",
       "        vertical-align: middle;\n",
       "    }\n",
       "\n",
       "    .dataframe tbody tr th {\n",
       "        vertical-align: top;\n",
       "    }\n",
       "\n",
       "    .dataframe thead th {\n",
       "        text-align: right;\n",
       "    }\n",
       "</style>\n",
       "<table border=\"1\" class=\"dataframe\">\n",
       "  <thead>\n",
       "    <tr style=\"text-align: right;\">\n",
       "      <th></th>\n",
       "      <th>X</th>\n",
       "    </tr>\n",
       "  </thead>\n",
       "  <tbody>\n",
       "    <tr>\n",
       "      <th>0</th>\n",
       "      <td>60</td>\n",
       "    </tr>\n",
       "    <tr>\n",
       "      <th>1</th>\n",
       "      <td>70</td>\n",
       "    </tr>\n",
       "    <tr>\n",
       "      <th>2</th>\n",
       "      <td>80</td>\n",
       "    </tr>\n",
       "    <tr>\n",
       "      <th>3</th>\n",
       "      <td>100</td>\n",
       "    </tr>\n",
       "    <tr>\n",
       "      <th>4</th>\n",
       "      <td>120</td>\n",
       "    </tr>\n",
       "    <tr>\n",
       "      <th>5</th>\n",
       "      <td>150</td>\n",
       "    </tr>\n",
       "    <tr>\n",
       "      <th>6</th>\n",
       "      <td>200</td>\n",
       "    </tr>\n",
       "    <tr>\n",
       "      <th>7</th>\n",
       "      <td>250</td>\n",
       "    </tr>\n",
       "    <tr>\n",
       "      <th>8</th>\n",
       "      <td>300</td>\n",
       "    </tr>\n",
       "    <tr>\n",
       "      <th>9</th>\n",
       "      <td>400</td>\n",
       "    </tr>\n",
       "    <tr>\n",
       "      <th>10</th>\n",
       "      <td>500</td>\n",
       "    </tr>\n",
       "    <tr>\n",
       "      <th>11</th>\n",
       "      <td>750</td>\n",
       "    </tr>\n",
       "    <tr>\n",
       "      <th>12</th>\n",
       "      <td>1000</td>\n",
       "    </tr>\n",
       "    <tr>\n",
       "      <th>13</th>\n",
       "      <td>2000</td>\n",
       "    </tr>\n",
       "    <tr>\n",
       "      <th>14</th>\n",
       "      <td>3000</td>\n",
       "    </tr>\n",
       "  </tbody>\n",
       "</table>\n",
       "</div>"
      ],
      "text/plain": [
       "       X\n",
       "0     60\n",
       "1     70\n",
       "2     80\n",
       "3    100\n",
       "4    120\n",
       "5    150\n",
       "6    200\n",
       "7    250\n",
       "8    300\n",
       "9    400\n",
       "10   500\n",
       "11   750\n",
       "12  1000\n",
       "13  2000\n",
       "14  3000"
      ]
     },
     "execution_count": 4,
     "metadata": {},
     "output_type": "execute_result"
    }
   ],
   "source": [
    "x = loadData.drop('Y', axis ='columns')\n",
    "x"
   ]
  },
  {
   "cell_type": "code",
   "execution_count": 5,
   "id": "a33d6e01",
   "metadata": {},
   "outputs": [
    {
     "data": {
      "text/html": [
       "<div>\n",
       "<style scoped>\n",
       "    .dataframe tbody tr th:only-of-type {\n",
       "        vertical-align: middle;\n",
       "    }\n",
       "\n",
       "    .dataframe tbody tr th {\n",
       "        vertical-align: top;\n",
       "    }\n",
       "\n",
       "    .dataframe thead th {\n",
       "        text-align: right;\n",
       "    }\n",
       "</style>\n",
       "<table border=\"1\" class=\"dataframe\">\n",
       "  <thead>\n",
       "    <tr style=\"text-align: right;\">\n",
       "      <th></th>\n",
       "      <th>Y</th>\n",
       "    </tr>\n",
       "  </thead>\n",
       "  <tbody>\n",
       "    <tr>\n",
       "      <th>0</th>\n",
       "      <td>180</td>\n",
       "    </tr>\n",
       "    <tr>\n",
       "      <th>1</th>\n",
       "      <td>180</td>\n",
       "    </tr>\n",
       "    <tr>\n",
       "      <th>2</th>\n",
       "      <td>200</td>\n",
       "    </tr>\n",
       "    <tr>\n",
       "      <th>3</th>\n",
       "      <td>200</td>\n",
       "    </tr>\n",
       "    <tr>\n",
       "      <th>4</th>\n",
       "      <td>200</td>\n",
       "    </tr>\n",
       "    <tr>\n",
       "      <th>5</th>\n",
       "      <td>220</td>\n",
       "    </tr>\n",
       "    <tr>\n",
       "      <th>6</th>\n",
       "      <td>240</td>\n",
       "    </tr>\n",
       "    <tr>\n",
       "      <th>7</th>\n",
       "      <td>240</td>\n",
       "    </tr>\n",
       "    <tr>\n",
       "      <th>8</th>\n",
       "      <td>300</td>\n",
       "    </tr>\n",
       "    <tr>\n",
       "      <th>9</th>\n",
       "      <td>350</td>\n",
       "    </tr>\n",
       "    <tr>\n",
       "      <th>10</th>\n",
       "      <td>350</td>\n",
       "    </tr>\n",
       "    <tr>\n",
       "      <th>11</th>\n",
       "      <td>360</td>\n",
       "    </tr>\n",
       "    <tr>\n",
       "      <th>12</th>\n",
       "      <td>365</td>\n",
       "    </tr>\n",
       "    <tr>\n",
       "      <th>13</th>\n",
       "      <td>365</td>\n",
       "    </tr>\n",
       "    <tr>\n",
       "      <th>14</th>\n",
       "      <td>365</td>\n",
       "    </tr>\n",
       "  </tbody>\n",
       "</table>\n",
       "</div>"
      ],
      "text/plain": [
       "      Y\n",
       "0   180\n",
       "1   180\n",
       "2   200\n",
       "3   200\n",
       "4   200\n",
       "5   220\n",
       "6   240\n",
       "7   240\n",
       "8   300\n",
       "9   350\n",
       "10  350\n",
       "11  360\n",
       "12  365\n",
       "13  365\n",
       "14  365"
      ]
     },
     "execution_count": 5,
     "metadata": {},
     "output_type": "execute_result"
    }
   ],
   "source": [
    "y = loadData.drop('X', axis = 'columns')\n",
    "y"
   ]
  },
  {
   "cell_type": "markdown",
   "id": "ddec46a8",
   "metadata": {},
   "source": [
    "# Visualizing dataset"
   ]
  },
  {
   "cell_type": "code",
   "execution_count": 6,
   "id": "c54e2654",
   "metadata": {},
   "outputs": [
    {
     "data": {
      "image/png": "[encoded data removed]",
      "text/plain": [
       "<Figure size 432x288 with 1 Axes>"
      ]
     },
     "metadata": {
      "needs_background": "light"
     },
     "output_type": "display_data"
    }
   ],
   "source": [
    "plt.scatter(x,y)\n",
    "plt.plot(x,y)\n",
    "plt.xlabel('XAXIS')\n",
    "plt.ylabel('YAXIS')\n",
    "plt.show()"
   ]
  },
  {
   "cell_type": "markdown",
   "id": "f2e47e76",
   "metadata": {},
   "source": [
    "# Training dataset"
   ]
  },
  {
   "cell_type": "code",
   "execution_count": 7,
   "id": "9b2a8078",
   "metadata": {},
   "outputs": [],
   "source": [
    "from sklearn.preprocessing import PolynomialFeatures\n",
    "from sklearn.linear_model import LinearRegression"
   ]
  },
  {
   "cell_type": "code",
   "execution_count": 8,
   "id": "a3bc26b3",
   "metadata": {},
   "outputs": [],
   "source": [
    "X1 = PolynomialFeatures(degree=4)"
   ]
  },
  {
   "cell_type": "code",
   "execution_count": 9,
   "id": "82d03d2f",
   "metadata": {},
   "outputs": [],
   "source": [
    "A1 = X1.fit_transform(x)"
   ]
  },
  {
   "cell_type": "code",
   "execution_count": 10,
   "id": "a80d9744",
   "metadata": {},
   "outputs": [],
   "source": [
    "B1 = LinearRegression()"
   ]
  },
  {
   "cell_type": "code",
   "execution_count": 11,
   "id": "d283b5dd",
   "metadata": {},
   "outputs": [
    {
     "data": {
      "text/plain": [
       "LinearRegression()"
      ]
     },
     "execution_count": 11,
     "metadata": {},
     "output_type": "execute_result"
    }
   ],
   "source": [
    "B1.fit(A1, y)"
   ]
  },
  {
   "cell_type": "code",
   "execution_count": 12,
   "id": "fba8ad04",
   "metadata": {},
   "outputs": [
    {
     "data": {
      "text/plain": [
       "array([[172.48588943],\n",
       "       [179.01970832],\n",
       "       [185.40317983],\n",
       "       [197.72731053],\n",
       "       [209.47461358],\n",
       "       [226.04924029],\n",
       "       [251.01504508],\n",
       "       [272.86635626],\n",
       "       [291.83683054],\n",
       "       [322.03002177],\n",
       "       [343.30437888],\n",
       "       [367.5393298 ],\n",
       "       [366.80362356],\n",
       "       [364.35656234],\n",
       "       [365.08790981]])"
      ]
     },
     "execution_count": 12,
     "metadata": {},
     "output_type": "execute_result"
    }
   ],
   "source": [
    "pred = B1.predict(A1)\n",
    "pred"
   ]
  },
  {
   "cell_type": "markdown",
   "id": "032d34af",
   "metadata": {},
   "source": [
    "# root mean square error RMSE"
   ]
  },
  {
   "cell_type": "code",
   "execution_count": 14,
   "id": "14472d5d",
   "metadata": {},
   "outputs": [],
   "source": [
    "from sklearn.metrics import mean_squared_error"
   ]
  },
  {
   "cell_type": "code",
   "execution_count": 16,
   "id": "600c6432",
   "metadata": {},
   "outputs": [
    {
     "name": "stdout",
     "output_type": "stream",
     "text": [
      "RMSE of polynomial regression 13.058458206169403\n"
     ]
    }
   ],
   "source": [
    "print(\"RMSE of polynomial regression\", np.sqrt(mean_squared_error(y, pred)))"
   ]
  },
  {
   "cell_type": "code",
   "execution_count": 18,
   "id": "5e677c94",
   "metadata": {},
   "outputs": [
    {
     "data": {
      "text/plain": [
       "0.9694743023211779"
      ]
     },
     "execution_count": 18,
     "metadata": {},
     "output_type": "execute_result"
    }
   ],
   "source": [
    "B1.score(A1, y)"
   ]
  },
  {
   "cell_type": "markdown",
   "id": "619c26ff",
   "metadata": {},
   "source": [
    "# Linear regression to check which is better "
   ]
  },
  {
   "cell_type": "code",
   "execution_count": 19,
   "id": "43a0da8b",
   "metadata": {},
   "outputs": [],
   "source": [
    "a = LinearRegression()"
   ]
  },
  {
   "cell_type": "code",
   "execution_count": 20,
   "id": "1a7908f1",
   "metadata": {},
   "outputs": [
    {
     "data": {
      "text/plain": [
       "LinearRegression()"
      ]
     },
     "execution_count": 20,
     "metadata": {},
     "output_type": "execute_result"
    }
   ],
   "source": [
    "a.fit(x,y)"
   ]
  },
  {
   "cell_type": "code",
   "execution_count": 21,
   "id": "f0a825d0",
   "metadata": {},
   "outputs": [
    {
     "data": {
      "text/plain": [
       "array([[240.10817425],\n",
       "       [240.7435423 ],\n",
       "       [241.37891035],\n",
       "       [242.64964646],\n",
       "       [243.92038256],\n",
       "       [245.82648672],\n",
       "       [249.00332698],\n",
       "       [252.18016724],\n",
       "       [255.3570075 ],\n",
       "       [261.71068803],\n",
       "       [268.06436855],\n",
       "       [283.94856986],\n",
       "       [299.83277117],\n",
       "       [363.3695764 ],\n",
       "       [426.90638163]])"
      ]
     },
     "execution_count": 21,
     "metadata": {},
     "output_type": "execute_result"
    }
   ],
   "source": [
    "lin_pred =a.predict(x)\n",
    "lin_pred"
   ]
  },
  {
   "cell_type": "code",
   "execution_count": 22,
   "id": "9df9fdb8",
   "metadata": {},
   "outputs": [
    {
     "name": "stdout",
     "output_type": "stream",
     "text": [
      "RMSE of polynomial regression 54.176559565858376\n"
     ]
    }
   ],
   "source": [
    "print(\"RMSE of polynomial regression\", np.sqrt(mean_squared_error(y, lin_pred)))"
   ]
  },
  {
   "cell_type": "code",
   "execution_count": 24,
   "id": "8c2aa6a6",
   "metadata": {},
   "outputs": [
    {
     "data": {
      "text/plain": [
       "0.4745823761330058"
      ]
     },
     "execution_count": 24,
     "metadata": {},
     "output_type": "execute_result"
    }
   ],
   "source": [
    "a.score(x, y)"
   ]
  },
  {
   "cell_type": "markdown",
   "id": "3739958e",
   "metadata": {},
   "source": [
    "a.score(x, y)"
   ]
  },
  {
   "cell_type": "markdown",
   "id": "ce613ce7",
   "metadata": {},
   "source": [
    "#  Conclusion: Polynomial regression with degree 4 RMSE and Score is much better than Linear regression for this dataset"
   ]
  },
  {
   "cell_type": "markdown",
   "id": "826c0843",
   "metadata": {},
   "source": [
    "# Ploting graph for both Linear regression and Polynomial regression"
   ]
  },
  {
   "cell_type": "code",
   "execution_count": 25,
   "id": "a4295005",
   "metadata": {},
   "outputs": [
    {
     "data": {
      "image/png": "[encoded data removed]",
      "text/plain": [
       "<Figure size 432x288 with 1 Axes>"
      ]
     },
     "metadata": {
      "needs_background": "light"
     },
     "output_type": "display_data"
    }
   ],
   "source": [
    "plt.scatter(x,lin_pred)\n",
    "plt.plot(x,lin_pred)\n",
    "plt.xlabel('XAXIS')\n",
    "plt.ylabel('YAXIS')\n",
    "plt.show()"
   ]
  },
  {
   "cell_type": "code",
   "execution_count": 26,
   "id": "c098e746",
   "metadata": {},
   "outputs": [
    {
     "data": {
      "text/plain": [
       "array([[1.0000000e+00, 6.0000000e+01, 3.6000000e+03, 2.1600000e+05,\n",
       "        1.2960000e+07],\n",
       "       [1.0000000e+00, 7.0000000e+01, 4.9000000e+03, 3.4300000e+05,\n",
       "        2.4010000e+07],\n",
       "       [1.0000000e+00, 8.0000000e+01, 6.4000000e+03, 5.1200000e+05,\n",
       "        4.0960000e+07],\n",
       "       [1.0000000e+00, 1.0000000e+02, 1.0000000e+04, 1.0000000e+06,\n",
       "        1.0000000e+08],\n",
       "       [1.0000000e+00, 1.2000000e+02, 1.4400000e+04, 1.7280000e+06,\n",
       "        2.0736000e+08],\n",
       "       [1.0000000e+00, 1.5000000e+02, 2.2500000e+04, 3.3750000e+06,\n",
       "        5.0625000e+08],\n",
       "       [1.0000000e+00, 2.0000000e+02, 4.0000000e+04, 8.0000000e+06,\n",
       "        1.6000000e+09],\n",
       "       [1.0000000e+00, 2.5000000e+02, 6.2500000e+04, 1.5625000e+07,\n",
       "        3.9062500e+09],\n",
       "       [1.0000000e+00, 3.0000000e+02, 9.0000000e+04, 2.7000000e+07,\n",
       "        8.1000000e+09],\n",
       "       [1.0000000e+00, 4.0000000e+02, 1.6000000e+05, 6.4000000e+07,\n",
       "        2.5600000e+10],\n",
       "       [1.0000000e+00, 5.0000000e+02, 2.5000000e+05, 1.2500000e+08,\n",
       "        6.2500000e+10],\n",
       "       [1.0000000e+00, 7.5000000e+02, 5.6250000e+05, 4.2187500e+08,\n",
       "        3.1640625e+11],\n",
       "       [1.0000000e+00, 1.0000000e+03, 1.0000000e+06, 1.0000000e+09,\n",
       "        1.0000000e+12],\n",
       "       [1.0000000e+00, 2.0000000e+03, 4.0000000e+06, 8.0000000e+09,\n",
       "        1.6000000e+13],\n",
       "       [1.0000000e+00, 3.0000000e+03, 9.0000000e+06, 2.7000000e+10,\n",
       "        8.1000000e+13]])"
      ]
     },
     "execution_count": 26,
     "metadata": {},
     "output_type": "execute_result"
    }
   ],
   "source": [
    "A1"
   ]
  },
  {
   "cell_type": "code",
   "execution_count": 28,
   "id": "94c178df",
   "metadata": {},
   "outputs": [
    {
     "data": {
      "text/html": [
       "<div>\n",
       "<style scoped>\n",
       "    .dataframe tbody tr th:only-of-type {\n",
       "        vertical-align: middle;\n",
       "    }\n",
       "\n",
       "    .dataframe tbody tr th {\n",
       "        vertical-align: top;\n",
       "    }\n",
       "\n",
       "    .dataframe thead th {\n",
       "        text-align: right;\n",
       "    }\n",
       "</style>\n",
       "<table border=\"1\" class=\"dataframe\">\n",
       "  <thead>\n",
       "    <tr style=\"text-align: right;\">\n",
       "      <th></th>\n",
       "      <th>0</th>\n",
       "      <th>1</th>\n",
       "      <th>2</th>\n",
       "      <th>3</th>\n",
       "      <th>4</th>\n",
       "    </tr>\n",
       "  </thead>\n",
       "  <tbody>\n",
       "    <tr>\n",
       "      <th>0</th>\n",
       "      <td>1.0</td>\n",
       "      <td>60.0</td>\n",
       "      <td>3600.0</td>\n",
       "      <td>2.160000e+05</td>\n",
       "      <td>1.296000e+07</td>\n",
       "    </tr>\n",
       "    <tr>\n",
       "      <th>1</th>\n",
       "      <td>1.0</td>\n",
       "      <td>70.0</td>\n",
       "      <td>4900.0</td>\n",
       "      <td>3.430000e+05</td>\n",
       "      <td>2.401000e+07</td>\n",
       "    </tr>\n",
       "    <tr>\n",
       "      <th>2</th>\n",
       "      <td>1.0</td>\n",
       "      <td>80.0</td>\n",
       "      <td>6400.0</td>\n",
       "      <td>5.120000e+05</td>\n",
       "      <td>4.096000e+07</td>\n",
       "    </tr>\n",
       "    <tr>\n",
       "      <th>3</th>\n",
       "      <td>1.0</td>\n",
       "      <td>100.0</td>\n",
       "      <td>10000.0</td>\n",
       "      <td>1.000000e+06</td>\n",
       "      <td>1.000000e+08</td>\n",
       "    </tr>\n",
       "    <tr>\n",
       "      <th>4</th>\n",
       "      <td>1.0</td>\n",
       "      <td>120.0</td>\n",
       "      <td>14400.0</td>\n",
       "      <td>1.728000e+06</td>\n",
       "      <td>2.073600e+08</td>\n",
       "    </tr>\n",
       "    <tr>\n",
       "      <th>5</th>\n",
       "      <td>1.0</td>\n",
       "      <td>150.0</td>\n",
       "      <td>22500.0</td>\n",
       "      <td>3.375000e+06</td>\n",
       "      <td>5.062500e+08</td>\n",
       "    </tr>\n",
       "    <tr>\n",
       "      <th>6</th>\n",
       "      <td>1.0</td>\n",
       "      <td>200.0</td>\n",
       "      <td>40000.0</td>\n",
       "      <td>8.000000e+06</td>\n",
       "      <td>1.600000e+09</td>\n",
       "    </tr>\n",
       "    <tr>\n",
       "      <th>7</th>\n",
       "      <td>1.0</td>\n",
       "      <td>250.0</td>\n",
       "      <td>62500.0</td>\n",
       "      <td>1.562500e+07</td>\n",
       "      <td>3.906250e+09</td>\n",
       "    </tr>\n",
       "    <tr>\n",
       "      <th>8</th>\n",
       "      <td>1.0</td>\n",
       "      <td>300.0</td>\n",
       "      <td>90000.0</td>\n",
       "      <td>2.700000e+07</td>\n",
       "      <td>8.100000e+09</td>\n",
       "    </tr>\n",
       "    <tr>\n",
       "      <th>9</th>\n",
       "      <td>1.0</td>\n",
       "      <td>400.0</td>\n",
       "      <td>160000.0</td>\n",
       "      <td>6.400000e+07</td>\n",
       "      <td>2.560000e+10</td>\n",
       "    </tr>\n",
       "    <tr>\n",
       "      <th>10</th>\n",
       "      <td>1.0</td>\n",
       "      <td>500.0</td>\n",
       "      <td>250000.0</td>\n",
       "      <td>1.250000e+08</td>\n",
       "      <td>6.250000e+10</td>\n",
       "    </tr>\n",
       "    <tr>\n",
       "      <th>11</th>\n",
       "      <td>1.0</td>\n",
       "      <td>750.0</td>\n",
       "      <td>562500.0</td>\n",
       "      <td>4.218750e+08</td>\n",
       "      <td>3.164062e+11</td>\n",
       "    </tr>\n",
       "    <tr>\n",
       "      <th>12</th>\n",
       "      <td>1.0</td>\n",
       "      <td>1000.0</td>\n",
       "      <td>1000000.0</td>\n",
       "      <td>1.000000e+09</td>\n",
       "      <td>1.000000e+12</td>\n",
       "    </tr>\n",
       "    <tr>\n",
       "      <th>13</th>\n",
       "      <td>1.0</td>\n",
       "      <td>2000.0</td>\n",
       "      <td>4000000.0</td>\n",
       "      <td>8.000000e+09</td>\n",
       "      <td>1.600000e+13</td>\n",
       "    </tr>\n",
       "    <tr>\n",
       "      <th>14</th>\n",
       "      <td>1.0</td>\n",
       "      <td>3000.0</td>\n",
       "      <td>9000000.0</td>\n",
       "      <td>2.700000e+10</td>\n",
       "      <td>8.100000e+13</td>\n",
       "    </tr>\n",
       "  </tbody>\n",
       "</table>\n",
       "</div>"
      ],
      "text/plain": [
       "      0       1          2             3             4\n",
       "0   1.0    60.0     3600.0  2.160000e+05  1.296000e+07\n",
       "1   1.0    70.0     4900.0  3.430000e+05  2.401000e+07\n",
       "2   1.0    80.0     6400.0  5.120000e+05  4.096000e+07\n",
       "3   1.0   100.0    10000.0  1.000000e+06  1.000000e+08\n",
       "4   1.0   120.0    14400.0  1.728000e+06  2.073600e+08\n",
       "5   1.0   150.0    22500.0  3.375000e+06  5.062500e+08\n",
       "6   1.0   200.0    40000.0  8.000000e+06  1.600000e+09\n",
       "7   1.0   250.0    62500.0  1.562500e+07  3.906250e+09\n",
       "8   1.0   300.0    90000.0  2.700000e+07  8.100000e+09\n",
       "9   1.0   400.0   160000.0  6.400000e+07  2.560000e+10\n",
       "10  1.0   500.0   250000.0  1.250000e+08  6.250000e+10\n",
       "11  1.0   750.0   562500.0  4.218750e+08  3.164062e+11\n",
       "12  1.0  1000.0  1000000.0  1.000000e+09  1.000000e+12\n",
       "13  1.0  2000.0  4000000.0  8.000000e+09  1.600000e+13\n",
       "14  1.0  3000.0  9000000.0  2.700000e+10  8.100000e+13"
      ]
     },
     "execution_count": 28,
     "metadata": {},
     "output_type": "execute_result"
    }
   ],
   "source": [
    "df = pd.DataFrame(A1)\n",
    "df"
   ]
  },
  {
   "cell_type": "code",
   "execution_count": 29,
   "id": "15da9dad",
   "metadata": {},
   "outputs": [
    {
     "data": {
      "image/png": "[encoded data removed]",
      "text/plain": [
       "<Figure size 432x288 with 1 Axes>"
      ]
     },
     "metadata": {
      "needs_background": "light"
     },
     "output_type": "display_data"
    }
   ],
   "source": [
    "plt.scatter(df[2],pred)\n",
    "plt.plot(df[2],pred)\n",
    "plt.xlabel('XAXIS')\n",
    "plt.ylabel('YAXIS')\n",
    "plt.show()"
   ]
  },
  {
   "cell_type": "code",
   "execution_count": 30,
   "id": "4d2a0aa9",
   "metadata": {},
   "outputs": [
    {
     "data": {
      "image/png": "[encoded data removed]",
      "text/plain": [
       "<Figure size 432x288 with 1 Axes>"
      ]
     },
     "metadata": {
      "needs_background": "light"
     },
     "output_type": "display_data"
    }
   ],
   "source": [
    "plt.scatter(df[4],pred)\n",
    "plt.plot(df[4],pred)\n",
    "plt.xlabel('XAXIS')\n",
    "plt.ylabel('YAXIS')\n",
    "plt.show()"
   ]
  },
  {
   "cell_type": "markdown",
   "id": "40c67ee1",
   "metadata": {},
   "source": [
    "# Degree 4 is much better than degree 2 for this data set by comparing RMSE and score of respective degree"
   ]
  },
  {
   "cell_type": "code",
   "execution_count": null,
   "id": "cab19bf2",
   "metadata": {},
   "outputs": [],
   "source": []
  }
 ],
 "metadata": {
  "kernelspec": {
   "display_name": "Python 3",
   "language": "python",
   "name": "python3"
  },
  "language_info": {
   "codemirror_mode": {
    "name": "ipython",
    "version": 3
   },
   "file_extension": ".py",
   "mimetype": "text/x-python",
   "name": "python",
   "nbconvert_exporter": "python",
   "pygments_lexer": "ipython3",
   "version": "3.8.8"
  }
 },
 "nbformat": 4,
 "nbformat_minor": 5
}
